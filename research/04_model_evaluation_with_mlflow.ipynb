{
 "cells": [
  {
   "cell_type": "code",
   "execution_count": 1,
   "id": "b562d47a",
   "metadata": {},
   "outputs": [],
   "source": [
    "import os"
   ]
  },
  {
   "cell_type": "code",
   "execution_count": 2,
   "id": "7bf6a858",
   "metadata": {},
   "outputs": [
    {
     "data": {
      "text/plain": [
       "'d:\\\\DataScience\\\\DS\\\\Neural Networks\\\\tensor_flow\\\\end-to-end-chestClassificationDL\\\\research'"
      ]
     },
     "execution_count": 2,
     "metadata": {},
     "output_type": "execute_result"
    }
   ],
   "source": [
    "%pwd"
   ]
  },
  {
   "cell_type": "code",
   "execution_count": 3,
   "id": "0d62aadb",
   "metadata": {},
   "outputs": [],
   "source": [
    "os.chdir(\"../\")"
   ]
  },
  {
   "cell_type": "code",
   "execution_count": 4,
   "id": "68209153",
   "metadata": {},
   "outputs": [
    {
     "data": {
      "text/plain": [
       "'d:\\\\DataScience\\\\DS\\\\Neural Networks\\\\tensor_flow\\\\end-to-end-chestClassificationDL'"
      ]
     },
     "execution_count": 4,
     "metadata": {},
     "output_type": "execute_result"
    }
   ],
   "source": [
    "%pwd"
   ]
  },
  {
   "cell_type": "code",
   "execution_count": 5,
   "id": "78af2fe4",
   "metadata": {},
   "outputs": [],
   "source": [
    "os.environ[\"MLFLOW_TRACKING_URI\"] = \"https://dagshub.com/ikram2500/end-to-end-chestClassification-mlflow-DVC.mlflow\"\n",
    "os.environ[\"MLFLOW_TRACKING_USERNAME\"] = \"ikram2500\"\n",
    "os.environ[\"MLFLOW_TRACKING_PASSWORD\"] = \"bc4a05ef4f1a8239f5992d3a59f226a7d0c22822\""
   ]
  },
  {
   "cell_type": "code",
   "execution_count": 6,
   "id": "2416aed6",
   "metadata": {},
   "outputs": [],
   "source": [
    "import dagshub"
   ]
  },
  {
   "cell_type": "code",
   "execution_count": 7,
   "id": "509e6936",
   "metadata": {},
   "outputs": [
    {
     "data": {
      "text/html": [
       "<pre style=\"white-space:pre;overflow-x:auto;line-height:normal;font-family:Menlo,'DejaVu Sans Mono',consolas,'Courier New',monospace\">Accessing as ikram2500\n",
       "</pre>\n"
      ],
      "text/plain": [
       "Accessing as ikram2500\n"
      ]
     },
     "metadata": {},
     "output_type": "display_data"
    },
    {
     "data": {
      "text/html": [
       "<pre style=\"white-space:pre;overflow-x:auto;line-height:normal;font-family:Menlo,'DejaVu Sans Mono',consolas,'Courier New',monospace\">Initialized MLflow to track repo <span style=\"color: #008000; text-decoration-color: #008000\">\"ikram2500/end-to-end-chestClassification-mlflow-DVC\"</span>\n",
       "</pre>\n"
      ],
      "text/plain": [
       "Initialized MLflow to track repo \u001b[32m\"ikram2500/end-to-end-chestClassification-mlflow-DVC\"\u001b[0m\n"
      ]
     },
     "metadata": {},
     "output_type": "display_data"
    },
    {
     "data": {
      "text/html": [
       "<pre style=\"white-space:pre;overflow-x:auto;line-height:normal;font-family:Menlo,'DejaVu Sans Mono',consolas,'Courier New',monospace\">Repository ikram2500/end-to-end-chestClassification-mlflow-DVC initialized!\n",
       "</pre>\n"
      ],
      "text/plain": [
       "Repository ikram2500/end-to-end-chestClassification-mlflow-DVC initialized!\n"
      ]
     },
     "metadata": {},
     "output_type": "display_data"
    }
   ],
   "source": [
    "import dagshub\n",
    "dagshub.init(repo_owner='ikram2500', repo_name='end-to-end-chestClassification-mlflow-DVC', mlflow=True)\n",
    "\n",
    "import mlflow\n",
    "with mlflow.start_run():\n",
    "  mlflow.log_param('parameter name', 'value')\n",
    "  mlflow.log_metric('metric name', 1)"
   ]
  },
  {
   "cell_type": "code",
   "execution_count": 8,
   "id": "56d06d2a",
   "metadata": {},
   "outputs": [],
   "source": [
    "import tensorflow as tf"
   ]
  },
  {
   "cell_type": "code",
   "execution_count": 9,
   "id": "6123d4d0",
   "metadata": {},
   "outputs": [],
   "source": [
    "model = tf.keras.models.load_model(\"artifacts/training/model.h5\")"
   ]
  },
  {
   "cell_type": "code",
   "execution_count": 10,
   "id": "65d90b53",
   "metadata": {},
   "outputs": [],
   "source": [
    "from dataclasses import dataclass \n",
    "from pathlib import Path \n",
    "\n",
    "@dataclass(frozen=True)\n",
    "class EvaluationConfig:\n",
    "    path_of_model: Path\n",
    "    training_data: Path\n",
    "    all_params: dict\n",
    "    mlflow_uri: str \n",
    "    params_image_size: list\n",
    "    params_batch_size: int\n",
    "    "
   ]
  },
  {
   "cell_type": "code",
   "execution_count": 11,
   "id": "23033750",
   "metadata": {},
   "outputs": [],
   "source": [
    "from cnnClassifier.constants import * \n",
    "from cnnClassifier.utils.common import read_yaml, create_directories, save_json"
   ]
  },
  {
   "cell_type": "code",
   "execution_count": 12,
   "id": "df56e0fd",
   "metadata": {},
   "outputs": [],
   "source": [
    "class CofigurationManager:\n",
    "    def __init__(\n",
    "            self, \n",
    "            config_filepath = CONFIG_FILE_PATH,\n",
    "            params_filepath = PARAMS_FILE_PATH):\n",
    "            self.config = read_yaml(config_filepath)\n",
    "            self.params = read_yaml(params_filepath)\n",
    "\n",
    "            create_directories([self.config.artifacts_root])\n",
    "\n",
    "    def get_evaluation_config(self) -> EvaluationConfig:\n",
    "          eval_config = EvaluationConfig(\n",
    "                path_of_model=\"artifacts/training/model.h5\", # pyright: ignore[reportArgumentType]\n",
    "                training_data=\"artifacts/data_ingestion/Chest-Ct-Scan-Data\", # pyright: ignore[reportArgumentType]\n",
    "                mlflow_uri=\"https://dagshub.com/ikram2500/end-to-end-chestClassification-mlflow-DVC.mlflow\",\n",
    "                all_params=self.params,\n",
    "                params_image_size=self.params.IMAGE_SIZE,\n",
    "                params_batch_size=self.params.BATCH_SIZE\n",
    "            \n",
    "          )\n",
    "          return eval_config"
   ]
  },
  {
   "cell_type": "code",
   "execution_count": 13,
   "id": "5245e9cf",
   "metadata": {},
   "outputs": [],
   "source": [
    "import tensorflow as tf \n",
    "from pathlib import Path \n",
    "import mlflow \n",
    "import mlflow.keras \n",
    "from urllib.parse import urlparse "
   ]
  },
  {
   "cell_type": "code",
   "execution_count": 14,
   "id": "271265b4",
   "metadata": {},
   "outputs": [],
   "source": [
    "class Evaluation:\n",
    "    def __init__(self, config: EvaluationConfig):\n",
    "        self.config = config\n",
    "\n",
    "    def _valid_generator(self):\n",
    "        \n",
    "        datagenerator_kwargs = dict(\n",
    "            rescale=1./255,\n",
    "            validation_split=0.30\n",
    "        )\n",
    "\n",
    "        dataflow_kwargs = dict(\n",
    "            target_size=self.config.params_image_size[:-1],\n",
    "            batch_size=self.config.params_batch_size,\n",
    "            interpolation=\"bilinear\"\n",
    "        )\n",
    "\n",
    "        valid_datagenerator = tf.keras.preprocessing.image.ImageDataGenerator(\n",
    "            **datagenerator_kwargs\n",
    "        )\n",
    "\n",
    "        self.valid_generator = valid_datagenerator.flow_from_directory(\n",
    "            directory=self.config.training_data,\n",
    "            subset=\"validation\",\n",
    "            shuffle=False,\n",
    "            **dataflow_kwargs\n",
    "        )\n",
    "\n",
    "    @staticmethod\n",
    "    def load_model(path:Path) -> tf.keras.Model:\n",
    "        return tf.keras.models.load_model(path)\n",
    "\n",
    "\n",
    "    def evaluation(self):\n",
    "        self.model = self.load_model(self.config.path_of_model)\n",
    "        self._valid_generator()\n",
    "        self.score = self.model.evaluate(self.valid_generator)\n",
    "        self.save_score()\n",
    "\n",
    "    def save_score(self):\n",
    "        scores = {\"loss\": self.score[0], \"accuracy\": self.score[1]}\n",
    "        save_json(path=Path(\"scores.json\"), data=scores)\n",
    "\n",
    "    def log_into_mlflow(self):\n",
    "        mlflow.set_registry_uri(self.config.mlflow_uri)\n",
    "        tracking_url_type_store = urlparse(mlflow.get_tracking_uri()).scheme\n",
    "        \n",
    "        with mlflow.start_run():\n",
    "            mlflow.log_params(self.config.all_params)\n",
    "            mlflow.log_metrics(\n",
    "                {\"loss\": self.score[0], \"accuracy\": self.score[1]}\n",
    "            )\n",
    "\n",
    "            if tracking_url_type_store != \"file\":\n",
    "\n",
    "                mlflow.keras.log_model(self.model, \"model\", registered_model_name= \"VGG16Model\")\n",
    "            else:\n",
    "                mlflow.keras.log_model(self.model, \"model\")\n"
   ]
  },
  {
   "cell_type": "code",
   "execution_count": 15,
   "id": "7fdbbb8a",
   "metadata": {},
   "outputs": [
    {
     "name": "stdout",
     "output_type": "stream",
     "text": [
      "[2025-08-29 19:20:38,586: INFO: common: yaml file: config\\config.yaml loaded successfully]\n",
      "[2025-08-29 19:20:38,601: INFO: common: yaml file: params.yaml loaded successfully]\n",
      "[2025-08-29 19:20:38,603: INFO: common: created directory at: artifacts]\n",
      "Found 80 images belonging to 2 classes.\n",
      "5/5 [==============================] - 9s 2s/step - loss: 14.4154 - accuracy: 0.4500\n",
      "[2025-08-29 19:20:48,468: INFO: common: json file saved at : scores.json]\n"
     ]
    },
    {
     "name": "stderr",
     "output_type": "stream",
     "text": [
      "2025/08/29 19:20:49 WARNING mlflow.tensorflow: You are saving a TensorFlow Core model or Keras model without a signature. Inference with mlflow.pyfunc.spark_udf() will not work unless the model's pyfunc representation accepts pandas DataFrames as inference inputs.\n"
     ]
    },
    {
     "name": "stdout",
     "output_type": "stream",
     "text": [
      "[2025-08-29 19:20:51,062: WARNING: save: Found untraced functions such as _jit_compiled_convolution_op, _jit_compiled_convolution_op, _jit_compiled_convolution_op, _jit_compiled_convolution_op, _jit_compiled_convolution_op while saving (showing 5 of 14). These functions will not be directly callable after loading.]\n",
      "INFO:tensorflow:Assets written to: C:\\Users\\TECHZO~1\\AppData\\Local\\Temp\\tmp1weg6aw0\\model\\data\\model\\assets\n",
      "[2025-08-29 19:20:51,683: INFO: builder_impl: Assets written to: C:\\Users\\TECHZO~1\\AppData\\Local\\Temp\\tmp1weg6aw0\\model\\data\\model\\assets]\n"
     ]
    },
    {
     "name": "stderr",
     "output_type": "stream",
     "text": [
      "c:\\miniconda3\\envs\\tensorenv\\lib\\site-packages\\_distutils_hack\\__init__.py:33: UserWarning: Setuptools is replacing distutils.\n",
      "  warnings.warn(\"Setuptools is replacing distutils.\")\n",
      "Registered model 'VGG16Model' already exists. Creating a new version of this model...\n",
      "2025/08/29 19:22:55 INFO mlflow.tracking._model_registry.client: Waiting up to 300 seconds for model version to finish creation.                     Model name: VGG16Model, version 4\n",
      "Created version '4' of model 'VGG16Model'.\n"
     ]
    }
   ],
   "source": [
    "try:\n",
    "    config = CofigurationManager()\n",
    "    eval_config = config.get_evaluation_config()\n",
    "    evaluation = Evaluation(eval_config)\n",
    "    evaluation.evaluation()\n",
    "    evaluation.log_into_mlflow()\n",
    "\n",
    "except Exception as e:\n",
    "    raise e"
   ]
  },
  {
   "cell_type": "code",
   "execution_count": null,
   "id": "eac2af9b",
   "metadata": {},
   "outputs": [],
   "source": []
  }
 ],
 "metadata": {
  "kernelspec": {
   "display_name": "tensorenv",
   "language": "python",
   "name": "python3"
  },
  "language_info": {
   "codemirror_mode": {
    "name": "ipython",
    "version": 3
   },
   "file_extension": ".py",
   "mimetype": "text/x-python",
   "name": "python",
   "nbconvert_exporter": "python",
   "pygments_lexer": "ipython3",
   "version": "3.10.18"
  }
 },
 "nbformat": 4,
 "nbformat_minor": 5
}
