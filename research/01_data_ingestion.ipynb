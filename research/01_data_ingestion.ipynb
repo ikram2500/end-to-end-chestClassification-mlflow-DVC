{
 "cells": [
  {
   "cell_type": "code",
   "execution_count": 1,
   "id": "272ccec9",
   "metadata": {},
   "outputs": [],
   "source": [
    "import os "
   ]
  },
  {
   "cell_type": "code",
   "execution_count": 2,
   "id": "38e8c9e7",
   "metadata": {},
   "outputs": [
    {
     "data": {
      "text/plain": [
       "'d:\\\\DataScience\\\\DS\\\\Neural Networks\\\\tensor_flow\\\\end-to-end-chestClassificationDL\\\\research'"
      ]
     },
     "execution_count": 2,
     "metadata": {},
     "output_type": "execute_result"
    }
   ],
   "source": [
    "%pwd"
   ]
  },
  {
   "cell_type": "code",
   "execution_count": 3,
   "id": "065249d5",
   "metadata": {},
   "outputs": [],
   "source": [
    "os.chdir('../')"
   ]
  },
  {
   "cell_type": "code",
   "execution_count": 4,
   "id": "bfddbc77",
   "metadata": {},
   "outputs": [
    {
     "data": {
      "text/plain": [
       "'d:\\\\DataScience\\\\DS\\\\Neural Networks\\\\tensor_flow\\\\end-to-end-chestClassificationDL'"
      ]
     },
     "execution_count": 4,
     "metadata": {},
     "output_type": "execute_result"
    }
   ],
   "source": [
    "%pwd"
   ]
  },
  {
   "cell_type": "code",
   "execution_count": 5,
   "id": "36197b5f",
   "metadata": {},
   "outputs": [],
   "source": [
    "# entity part\n",
    "from dataclasses import dataclass \n",
    "from pathlib import Path \n",
    "\n",
    "@dataclass(frozen=True)\n",
    "class DataIngestionConfig:\n",
    "    root_dir: Path \n",
    "    source_URL: str \n",
    "    local_data_file: Path \n",
    "    unzip_dir: Path"
   ]
  },
  {
   "cell_type": "code",
   "execution_count": 6,
   "id": "d0a65eb6",
   "metadata": {},
   "outputs": [],
   "source": [
    "#  Update the configuration manager in src config\n",
    "from cnnClassifier.constants import * \n",
    "from cnnClassifier.utils.common import read_yaml, create_directories\n"
   ]
  },
  {
   "cell_type": "code",
   "execution_count": 7,
   "id": "a244fd50",
   "metadata": {},
   "outputs": [],
   "source": [
    "class CofigurationManager:\n",
    "    def __init__(\n",
    "        self,\n",
    "        config_filepath = CONFIG_FILE_PATH,\n",
    "        params_filepath = PARAMS_FILE_PATH):\n",
    "\n",
    "        self.config = read_yaml(config_filepath)\n",
    "        self.params = read_yaml(params_filepath)\n",
    "\n",
    "        create_directories([self.config.artifacts_root])\n",
    "\n",
    "\n",
    "    def get_data_ingestion_config(self) -> DataIngestionConfig:\n",
    "        config = self.config.data_ingestion\n",
    "\n",
    "        create_directories([config.root_dir])\n",
    "\n",
    "        data_ingestion_config = DataIngestionConfig(\n",
    "            root_dir = config.root_dir,\n",
    "            source_URL = config.source_URL,\n",
    "            local_data_file = config.local_data_file,\n",
    "            unzip_dir = config.unzip_dir\n",
    "        )\n",
    "\n",
    "        return data_ingestion_config"
   ]
  },
  {
   "cell_type": "code",
   "execution_count": 8,
   "id": "3d996683",
   "metadata": {},
   "outputs": [],
   "source": [
    "import os\n",
    "import urllib.request as request \n",
    "import zipfile\n",
    "import gdown \n",
    "from cnnClassifier import logger\n",
    "from cnnClassifier.utils.common import get_size\n"
   ]
  },
  {
   "cell_type": "code",
   "execution_count": 9,
   "id": "7e57b1f4",
   "metadata": {},
   "outputs": [],
   "source": [
    "# Update the cmponents \n",
    "class DataIngestion:\n",
    "    def __init__(self, config: DataIngestionConfig):\n",
    "        self.config = config \n",
    "\n",
    "    def download_file(self) -> str:\n",
    "        '''\n",
    "        Fetch data from the url\n",
    "        '''\n",
    "        try:\n",
    "            dataset_url = self.config.source_URL\n",
    "            zip_download_dir = self.config.local_data_file\n",
    "            os.makedirs(\"artifacts/data_ingestion\", exist_ok=True)\n",
    "            logger.info(f\"Downloading data from {dataset_url} into file {zip_download_dir}\")\n",
    "\n",
    "            file_id = dataset_url.split(\"/\")[-2]\n",
    "            prefix = \"https://drive.google.com/uc?/export=download&id=\"\n",
    "            gdown.download(prefix+file_id, zip_download_dir)\n",
    "\n",
    "            logger.info(f\"Downloaded data from {dataset_url} into file {zip_download_dir}\")\n",
    "\n",
    "        except Exception as e:\n",
    "            raise e\n",
    "\n",
    "    def extract_zip_file(self):\n",
    "        '''\n",
    "        zip_file_path: str\n",
    "        Extract the zip file into the data directory \n",
    "        Function returns None\n",
    "        '''\n",
    "        unzip_path = self.config.unzip_dir\n",
    "        os.makedirs(unzip_path, exist_ok=True)\n",
    "        with zipfile.ZipFile(self.config.local_data_file, 'r') as zip_ref:\n",
    "            zip_ref.extractall(unzip_path)"
   ]
  },
  {
   "cell_type": "code",
   "execution_count": 10,
   "id": "978a297f",
   "metadata": {},
   "outputs": [
    {
     "name": "stdout",
     "output_type": "stream",
     "text": [
      "[2025-08-26 21:42:17,655: INFO: common: yaml file: config\\config.yaml loaded successfully]\n",
      "[2025-08-26 21:42:17,665: INFO: common: yaml file: params.yaml loaded successfully]\n",
      "[2025-08-26 21:42:17,672: INFO: common: created directory at: artifacts]\n",
      "[2025-08-26 21:42:17,672: INFO: common: created directory at: artifacts/data_ingestion]\n",
      "[2025-08-26 21:42:17,686: INFO: 3839920159: Downloading data from https://drive.google.com/file/d/1k06l3lkH9G_uEn9UWD4OMsFeFG1nGqr6/view?usp=sharing into file artifacts/data_ingestion/data.zip]\n"
     ]
    },
    {
     "name": "stderr",
     "output_type": "stream",
     "text": [
      "Downloading...\n",
      "From (original): https://drive.google.com/uc?/export=download&id=1k06l3lkH9G_uEn9UWD4OMsFeFG1nGqr6\n",
      "From (redirected): https://drive.google.com/uc?%2Fexport=download&id=1k06l3lkH9G_uEn9UWD4OMsFeFG1nGqr6&confirm=t&uuid=cf25d326-b767-495d-a73f-17ff0b68c6fe\n",
      "To: d:\\DataScience\\DS\\Neural Networks\\tensor_flow\\end-to-end-chestClassificationDL\\artifacts\\data_ingestion\\data.zip\n",
      "100%|██████████| 124M/124M [10:49<00:00, 191kB/s]    "
     ]
    },
    {
     "name": "stdout",
     "output_type": "stream",
     "text": [
      "[2025-08-26 21:53:14,306: INFO: 3839920159: Downloaded data from https://drive.google.com/file/d/1k06l3lkH9G_uEn9UWD4OMsFeFG1nGqr6/view?usp=sharing into file artifacts/data_ingestion/data.zip]\n"
     ]
    },
    {
     "name": "stderr",
     "output_type": "stream",
     "text": [
      "\n"
     ]
    }
   ],
   "source": [
    "# Update the pipeline \n",
    "\n",
    "try:\n",
    "    config = CofigurationManager()\n",
    "    data_ingestion_config = config.get_data_ingestion_config()\n",
    "    data_ingestion = DataIngestion(config = data_ingestion_config)\n",
    "    data_ingestion.download_file()\n",
    "    data_ingestion.extract_zip_file()\n",
    "except Exception as e:\n",
    "        raise e"
   ]
  }
 ],
 "metadata": {
  "kernelspec": {
   "display_name": "tensorenv",
   "language": "python",
   "name": "python3"
  },
  "language_info": {
   "codemirror_mode": {
    "name": "ipython",
    "version": 3
   },
   "file_extension": ".py",
   "mimetype": "text/x-python",
   "name": "python",
   "nbconvert_exporter": "python",
   "pygments_lexer": "ipython3",
   "version": "3.10.18"
  }
 },
 "nbformat": 4,
 "nbformat_minor": 5
}
